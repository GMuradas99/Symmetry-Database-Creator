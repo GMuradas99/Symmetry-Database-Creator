{
 "cells": [
  {
   "cell_type": "code",
   "execution_count": 1,
   "metadata": {},
   "outputs": [],
   "source": [
    "import cv2\n",
    "import os.path\n",
    "import pandas as pd\n",
    "\n",
    "from tqdm import tqdm\n",
    "from functions import getLocalSymmetry"
   ]
  },
  {
   "attachments": {},
   "cell_type": "markdown",
   "metadata": {},
   "source": [
    "<h3>Creating Directory and Meta Files</h3>"
   ]
  },
  {
   "cell_type": "code",
   "execution_count": 5,
   "metadata": {},
   "outputs": [],
   "source": [
    "FOLDER_PATH = 'symmetry_database'\n",
    "COLUMNS = ['fileName','numSymmetries','symmetries','Darkness','xPeriod','yPeriod','turbSize','offsetX','offsetY','backgroundType']\n",
    "SHAPE = (224,224,3)\n",
    "MNIST = pd.read_csv('MNIST/mnist_test.csv')\n",
    "MNIST.index.name = 'index'\n",
    "\n",
    "# Check if folder to store the data exist\n",
    "if not os.path.isdir(FOLDER_PATH):\n",
    "    os.mkdir(FOLDER_PATH)\n",
    "# Check if folder for images exist\n",
    "if not os.path.isdir(os.path.join(FOLDER_PATH, 'images')):\n",
    "    os.mkdir(os.path.join(FOLDER_PATH, 'images'))\n",
    "# Check if folder for labels exist\n",
    "if not os.path.isdir(os.path.join(FOLDER_PATH, 'labels')):\n",
    "    os.mkdir(os.path.join(FOLDER_PATH, 'labels'))\n",
    "# Check if labels exist\n",
    "if not os.path.isfile(os.path.join(FOLDER_PATH, 'labels.csv')):\n",
    "    temp = pd.DataFrame(columns=COLUMNS)\n",
    "    temp.index.name = 'index'\n",
    "    temp.to_csv(os.path.join(FOLDER_PATH, 'labels.csv'))"
   ]
  },
  {
   "attachments": {},
   "cell_type": "markdown",
   "metadata": {},
   "source": [
    "<h3>Already Generated Images</h3>"
   ]
  },
  {
   "cell_type": "code",
   "execution_count": 3,
   "metadata": {},
   "outputs": [
    {
     "data": {
      "text/html": [
       "<div>\n",
       "<style scoped>\n",
       "    .dataframe tbody tr th:only-of-type {\n",
       "        vertical-align: middle;\n",
       "    }\n",
       "\n",
       "    .dataframe tbody tr th {\n",
       "        vertical-align: top;\n",
       "    }\n",
       "\n",
       "    .dataframe thead th {\n",
       "        text-align: right;\n",
       "    }\n",
       "</style>\n",
       "<table border=\"1\" class=\"dataframe\">\n",
       "  <thead>\n",
       "    <tr style=\"text-align: right;\">\n",
       "      <th></th>\n",
       "      <th>fileName</th>\n",
       "      <th>numSymmetries</th>\n",
       "      <th>symmetries</th>\n",
       "      <th>Darkness</th>\n",
       "      <th>xPeriod</th>\n",
       "      <th>yPeriod</th>\n",
       "      <th>turbSize</th>\n",
       "      <th>offsetX</th>\n",
       "      <th>offsetY</th>\n",
       "      <th>backgroundType</th>\n",
       "    </tr>\n",
       "    <tr>\n",
       "      <th>index</th>\n",
       "      <th></th>\n",
       "      <th></th>\n",
       "      <th></th>\n",
       "      <th></th>\n",
       "      <th></th>\n",
       "      <th></th>\n",
       "      <th></th>\n",
       "      <th></th>\n",
       "      <th></th>\n",
       "      <th></th>\n",
       "    </tr>\n",
       "  </thead>\n",
       "  <tbody>\n",
       "  </tbody>\n",
       "</table>\n",
       "</div>"
      ],
      "text/plain": [
       "Empty DataFrame\n",
       "Columns: [fileName, numSymmetries, symmetries, Darkness, xPeriod, yPeriod, turbSize, offsetX, offsetY, backgroundType]\n",
       "Index: []"
      ]
     },
     "execution_count": 3,
     "metadata": {},
     "output_type": "execute_result"
    }
   ],
   "source": [
    "prevData = pd.read_csv(os.path.join(FOLDER_PATH,'labels.csv'),index_col='index')\n",
    "prevData"
   ]
  },
  {
   "attachments": {},
   "cell_type": "markdown",
   "metadata": {},
   "source": [
    "<h2>Creating Images</h2>"
   ]
  },
  {
   "cell_type": "code",
   "execution_count": 4,
   "metadata": {},
   "outputs": [
    {
     "name": "stderr",
     "output_type": "stream",
     "text": [
      "  0%|          | 12/10000 [00:49<11:23:17,  4.10s/it]\n"
     ]
    },
    {
     "ename": "KeyboardInterrupt",
     "evalue": "",
     "output_type": "error",
     "traceback": [
      "\u001b[1;31m---------------------------------------------------------------------------\u001b[0m",
      "\u001b[1;31mKeyboardInterrupt\u001b[0m                         Traceback (most recent call last)",
      "Cell \u001b[1;32mIn[4], line 9\u001b[0m\n\u001b[0;32m      7\u001b[0m fileName \u001b[39m=\u001b[39m \u001b[39mf\u001b[39m\u001b[39m'\u001b[39m\u001b[39m{\u001b[39;00mi\u001b[39m}\u001b[39;00m\u001b[39m.png\u001b[39m\u001b[39m'\u001b[39m\n\u001b[0;32m      8\u001b[0m \u001b[39m# Generating local symmetry\u001b[39;00m\n\u001b[1;32m----> 9\u001b[0m img, dictSym, dictBack \u001b[39m=\u001b[39m getLocalSymmetry(SHAPE, MNIST, idx\u001b[39m=\u001b[39;49mi)\n\u001b[0;32m     10\u001b[0m \u001b[39m# Removing and modifying unnecesary data\u001b[39;00m\n\u001b[0;32m     11\u001b[0m \u001b[39mfor\u001b[39;00m \u001b[39mdict\u001b[39m \u001b[39min\u001b[39;00m dictSym:\n",
      "File \u001b[1;32mc:\\Users\\weeck\\Desktop\\PhD\\Symmetry-Detabase-Creator\\functions.py:523\u001b[0m, in \u001b[0;36mgetLocalSymmetry\u001b[1;34m(shape, mnist, numOfSymmetries, idx, initialRotation, overFlow, padding, finalRotation, resizingPercent, backgroundType, darknessBackground, xPeriod, yPeriod, turbPower, turbSize, offsetX, offsetY)\u001b[0m\n\u001b[0;32m    521\u001b[0m     backgroundType \u001b[39m=\u001b[39m random\u001b[39m.\u001b[39mrandrange(\u001b[39m2\u001b[39m)\n\u001b[0;32m    522\u001b[0m \u001b[39mif\u001b[39;00m backgroundType \u001b[39m==\u001b[39m \u001b[39m0\u001b[39m:\n\u001b[1;32m--> 523\u001b[0m     background, dictBack \u001b[39m=\u001b[39m getSmoothNoiseSin(shape, darknessBackground, xPeriod, yPeriod, turbPower, turbSize)\n\u001b[0;32m    524\u001b[0m     dictBack[\u001b[39m'\u001b[39m\u001b[39moffsetX\u001b[39m\u001b[39m'\u001b[39m] \u001b[39m=\u001b[39m \u001b[39m0\u001b[39m\n\u001b[0;32m    525\u001b[0m     dictBack[\u001b[39m'\u001b[39m\u001b[39moffsetY\u001b[39m\u001b[39m'\u001b[39m] \u001b[39m=\u001b[39m \u001b[39m0\u001b[39m\n",
      "File \u001b[1;32mc:\\Users\\weeck\\Desktop\\PhD\\Symmetry-Detabase-Creator\\functions.py:421\u001b[0m, in \u001b[0;36mgetSmoothNoiseSin\u001b[1;34m(shape, darkness, xPeriod, yPeriod, turbPower, turbSize)\u001b[0m\n\u001b[0;32m    418\u001b[0m     turbSize \u001b[39m=\u001b[39m \u001b[39m2\u001b[39m\u001b[39m*\u001b[39m\u001b[39m*\u001b[39mrandom\u001b[39m.\u001b[39mrandrange(\u001b[39m2\u001b[39m,\u001b[39m7\u001b[39m)\n\u001b[0;32m    420\u001b[0m noise \u001b[39m=\u001b[39m np\u001b[39m.\u001b[39mzeros(shape)\u001b[39m.\u001b[39mastype(np\u001b[39m.\u001b[39muint8)\n\u001b[1;32m--> 421\u001b[0m noise \u001b[39m=\u001b[39m addNoise(noise)\n\u001b[0;32m    423\u001b[0m img \u001b[39m=\u001b[39m np\u001b[39m.\u001b[39mzeros((\u001b[39m224\u001b[39m,\u001b[39m224\u001b[39m,\u001b[39m3\u001b[39m))\u001b[39m.\u001b[39mastype(np\u001b[39m.\u001b[39muint8)\n\u001b[0;32m    425\u001b[0m \u001b[39mfor\u001b[39;00m i \u001b[39min\u001b[39;00m \u001b[39mrange\u001b[39m(img\u001b[39m.\u001b[39mshape[\u001b[39m0\u001b[39m]):\n",
      "File \u001b[1;32mc:\\Users\\weeck\\Desktop\\PhD\\Symmetry-Detabase-Creator\\functions.py:215\u001b[0m, in \u001b[0;36maddNoise\u001b[1;34m(img)\u001b[0m\n\u001b[0;32m    213\u001b[0m         img[i][j][\u001b[39m0\u001b[39m] \u001b[39m+\u001b[39m\u001b[39m=\u001b[39m \u001b[39mint\u001b[39m(\u001b[39m255\u001b[39m \u001b[39m*\u001b[39m pixelMask)\n\u001b[0;32m    214\u001b[0m         img[i][j][\u001b[39m1\u001b[39m] \u001b[39m+\u001b[39m\u001b[39m=\u001b[39m \u001b[39mint\u001b[39m(\u001b[39m255\u001b[39m \u001b[39m*\u001b[39m pixelMask)\n\u001b[1;32m--> 215\u001b[0m         img[i][j][\u001b[39m2\u001b[39m] \u001b[39m+\u001b[39m\u001b[39m=\u001b[39m \u001b[39mint\u001b[39m(\u001b[39m255\u001b[39m \u001b[39m*\u001b[39m pixelMask)\n\u001b[0;32m    217\u001b[0m \u001b[39mreturn\u001b[39;00m img\n",
      "\u001b[1;31mKeyboardInterrupt\u001b[0m: "
     ]
    }
   ],
   "source": [
    "# Checking starting point for loop\n",
    "start = len(prevData)\n",
    "\n",
    "# Loop\n",
    "for i in tqdm(range(start,len(MNIST))):\n",
    "    # File name\n",
    "    fileName = f'{i}.png'\n",
    "    # Generating local symmetry\n",
    "    img, dictSym, dictBack = getLocalSymmetry(SHAPE, MNIST, idx=i)\n",
    "    # Removing and modifying unnecesary data\n",
    "    for dict in dictSym:\n",
    "        dict['overFlow'] = int(dict['overFlow'] == True)\n",
    "    # Adding data\n",
    "    dictBack['fileName'] = fileName\n",
    "    # Adding all simetries\n",
    "    dictBack['numSymmetries'] = len(dictSym)\n",
    "    dictBack['symmetries'] = str(dictSym)\n",
    "    # Appending to df and saving\n",
    "    newRowDf = pd.DataFrame(dictBack, index=[0])\n",
    "    \n",
    "    prevData = pd.concat([prevData, newRowDf], ignore_index=True)\n",
    "    prevData.index.name = 'index'\n",
    "    prevData.to_csv(os.path.join(FOLDER_PATH, 'labels.csv'))\n",
    "    # Saving image\n",
    "    cv2.imwrite(os.path.join('symmetry_database','images',fileName), img)  "
   ]
  }
 ],
 "metadata": {
  "kernelspec": {
   "display_name": "Python 3",
   "language": "python",
   "name": "python3"
  },
  "language_info": {
   "codemirror_mode": {
    "name": "ipython",
    "version": 3
   },
   "file_extension": ".py",
   "mimetype": "text/x-python",
   "name": "python",
   "nbconvert_exporter": "python",
   "pygments_lexer": "ipython3",
   "version": "3.11.0"
  },
  "orig_nbformat": 4
 },
 "nbformat": 4,
 "nbformat_minor": 2
}
