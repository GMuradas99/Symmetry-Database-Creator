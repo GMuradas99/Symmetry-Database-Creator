{
 "cells": [
  {
   "cell_type": "code",
   "execution_count": 1,
   "metadata": {},
   "outputs": [],
   "source": [
    "import cv2\n",
    "import os.path\n",
    "import pandas as pd\n",
    "\n",
    "from tqdm import tqdm\n",
    "from functions import getLocalSymmetry"
   ]
  },
  {
   "attachments": {},
   "cell_type": "markdown",
   "metadata": {},
   "source": [
    "<h3>Creating Directory and Meta Files</h3>"
   ]
  },
  {
   "cell_type": "code",
   "execution_count": 2,
   "metadata": {},
   "outputs": [],
   "source": [
    "FOLDER_PATH = 'symmetry_database'\n",
    "COLUMNS = ['fileName','numSymmetries','symmetries','Darkness','xPeriod','yPeriod','turbSize','offsetX','offsetY','backgroundType']\n",
    "SHAPE = (224,224,3)\n",
    "MNIST = pd.read_csv('MNIST/mnist_test.csv')\n",
    "MNIST.index.name = 'index'\n",
    "\n",
    "# Check if folder to store the data exist\n",
    "if not os.path.isdir(FOLDER_PATH):\n",
    "    os.mkdir(FOLDER_PATH)\n",
    "# Check if folder for images exist\n",
    "if not os.path.isdir(os.path.join(FOLDER_PATH, 'images')):\n",
    "    os.mkdir(os.path.join(FOLDER_PATH, 'images'))\n",
    "# Check if labels exist\n",
    "if not os.path.isfile(os.path.join(FOLDER_PATH, 'labels.csv')):\n",
    "    temp = pd.DataFrame(columns=COLUMNS)\n",
    "    temp.index.name = 'index'\n",
    "    temp.to_csv(os.path.join(FOLDER_PATH, 'labels.csv'))"
   ]
  },
  {
   "attachments": {},
   "cell_type": "markdown",
   "metadata": {},
   "source": [
    "<h3>Already Generated Images</h3>"
   ]
  },
  {
   "cell_type": "code",
   "execution_count": 3,
   "metadata": {},
   "outputs": [
    {
     "data": {
      "text/html": [
       "<div>\n",
       "<style scoped>\n",
       "    .dataframe tbody tr th:only-of-type {\n",
       "        vertical-align: middle;\n",
       "    }\n",
       "\n",
       "    .dataframe tbody tr th {\n",
       "        vertical-align: top;\n",
       "    }\n",
       "\n",
       "    .dataframe thead th {\n",
       "        text-align: right;\n",
       "    }\n",
       "</style>\n",
       "<table border=\"1\" class=\"dataframe\">\n",
       "  <thead>\n",
       "    <tr style=\"text-align: right;\">\n",
       "      <th></th>\n",
       "      <th>fileName</th>\n",
       "      <th>numSymmetries</th>\n",
       "      <th>symmetries</th>\n",
       "      <th>Darkness</th>\n",
       "      <th>xPeriod</th>\n",
       "      <th>yPeriod</th>\n",
       "      <th>turbSize</th>\n",
       "      <th>offsetX</th>\n",
       "      <th>offsetY</th>\n",
       "      <th>backgroundType</th>\n",
       "      <th>turbPower</th>\n",
       "    </tr>\n",
       "    <tr>\n",
       "      <th>index</th>\n",
       "      <th></th>\n",
       "      <th></th>\n",
       "      <th></th>\n",
       "      <th></th>\n",
       "      <th></th>\n",
       "      <th></th>\n",
       "      <th></th>\n",
       "      <th></th>\n",
       "      <th></th>\n",
       "      <th></th>\n",
       "      <th></th>\n",
       "    </tr>\n",
       "  </thead>\n",
       "  <tbody>\n",
       "    <tr>\n",
       "      <th>0</th>\n",
       "      <td>0.png</td>\n",
       "      <td>2</td>\n",
       "      <td>[{'width': 64.56, 'height': 53.8, 'label': 7, ...</td>\n",
       "      <td>0.098679</td>\n",
       "      <td>8</td>\n",
       "      <td>1</td>\n",
       "      <td>64</td>\n",
       "      <td>-40</td>\n",
       "      <td>-40</td>\n",
       "      <td>1</td>\n",
       "      <td>1.678692</td>\n",
       "    </tr>\n",
       "  </tbody>\n",
       "</table>\n",
       "</div>"
      ],
      "text/plain": [
       "      fileName  numSymmetries  \\\n",
       "index                           \n",
       "0        0.png              2   \n",
       "\n",
       "                                              symmetries  Darkness  xPeriod  \\\n",
       "index                                                                         \n",
       "0      [{'width': 64.56, 'height': 53.8, 'label': 7, ...  0.098679        8   \n",
       "\n",
       "       yPeriod  turbSize  offsetX  offsetY  backgroundType  turbPower  \n",
       "index                                                                  \n",
       "0            1        64      -40      -40               1   1.678692  "
      ]
     },
     "execution_count": 3,
     "metadata": {},
     "output_type": "execute_result"
    }
   ],
   "source": [
    "prevData = pd.read_csv(os.path.join(FOLDER_PATH,'labels.csv'),index_col='index')\n",
    "prevData"
   ]
  },
  {
   "attachments": {},
   "cell_type": "markdown",
   "metadata": {},
   "source": [
    "<h2>Creating Images</h2>"
   ]
  },
  {
   "cell_type": "code",
   "execution_count": 4,
   "metadata": {},
   "outputs": [
    {
     "name": "stderr",
     "output_type": "stream",
     "text": [
      "  0%|          | 0/9999 [00:02<?, ?it/s]\n"
     ]
    }
   ],
   "source": [
    "# Checking starting point for loop\n",
    "start = len(prevData)\n",
    "\n",
    "# Loop\n",
    "for i in tqdm(range(start,len(MNIST))):\n",
    "    # File name\n",
    "    fileName = f'{i}.png'\n",
    "    # Generating local symmetry\n",
    "    img, dictSym, dictBack = getLocalSymmetry(SHAPE, MNIST, idx=i)\n",
    "    # Removing and modifying unnecesary data\n",
    "    for dict in dictSym:\n",
    "        del dict['startAxis']\n",
    "        del dict['endAxis']\n",
    "        del dict['center']\n",
    "        dict['overFlow'] = int(dict['overFlow'] == True)\n",
    "    # Adding data\n",
    "    dictBack['fileName'] = fileName\n",
    "    # Adding all simetries\n",
    "    dictBack['numSymmetries'] = len(dictSym)\n",
    "    dictBack['symmetries'] = str(dictSym)\n",
    "    # Appending to df and saving\n",
    "    newRowDf = pd.DataFrame(dictBack, index=[0])\n",
    "    \n",
    "    prevData = pd.concat([prevData, newRowDf], ignore_index=True)\n",
    "    prevData.index.name = 'index'\n",
    "    prevData.to_csv(os.path.join(FOLDER_PATH, 'labels.csv'))\n",
    "    # Saving image\n",
    "    cv2.imwrite(os.path.join('symmetry_database','images',fileName), img)  "
   ]
  }
 ],
 "metadata": {
  "kernelspec": {
   "display_name": "Python 3",
   "language": "python",
   "name": "python3"
  },
  "language_info": {
   "codemirror_mode": {
    "name": "ipython",
    "version": 3
   },
   "file_extension": ".py",
   "mimetype": "text/x-python",
   "name": "python",
   "nbconvert_exporter": "python",
   "pygments_lexer": "ipython3",
   "version": "3.11.0"
  },
  "orig_nbformat": 4
 },
 "nbformat": 4,
 "nbformat_minor": 2
}
