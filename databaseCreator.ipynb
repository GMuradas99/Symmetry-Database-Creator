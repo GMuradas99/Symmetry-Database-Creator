{
 "cells": [
  {
   "cell_type": "code",
   "execution_count": 54,
   "metadata": {},
   "outputs": [],
   "source": [
    "import cv2\n",
    "import os.path\n",
    "import pandas as pd\n",
    "\n",
    "from tqdm import tqdm\n",
    "from functions import getLocalSymmetry"
   ]
  },
  {
   "attachments": {},
   "cell_type": "markdown",
   "metadata": {},
   "source": [
    "<h3>Creating Directory and Meta Files</h3>"
   ]
  },
  {
   "cell_type": "code",
   "execution_count": 55,
   "metadata": {},
   "outputs": [],
   "source": [
    "FOLDER_PATH = 'symmetry_database'\n",
    "COLUMNS = ['fileName','startAxisX','startAxisY','endAxisX','endAxisY','centerX','centerY','width','height','label','initialRotation','overFlow','padding',\n",
    "           'finalRotation','resizingPercent','Darkness','xPeriod','yPeriod','turbSize','offsetX','offsetY','backgroundType']\n",
    "SHAPE = (224,224,3)\n",
    "MNIST = pd.read_csv('MNIST/mnist_test.csv')\n",
    "MNIST.index.name = 'index'\n",
    "\n",
    "# Check if folder to store the data exist\n",
    "if not os.path.isdir(FOLDER_PATH):\n",
    "    os.mkdir(FOLDER_PATH)\n",
    "# Check if folder for images exist\n",
    "if not os.path.isdir(os.path.join(FOLDER_PATH, 'images')):\n",
    "    os.mkdir(os.path.join(FOLDER_PATH, 'images'))\n",
    "# Check if labels exist\n",
    "if not os.path.isfile(os.path.join(FOLDER_PATH, 'labels.csv')):\n",
    "    temp = pd.DataFrame(columns=COLUMNS)\n",
    "    temp.index.name = 'index'\n",
    "    temp.to_csv(os.path.join(FOLDER_PATH, 'labels.csv'))"
   ]
  },
  {
   "attachments": {},
   "cell_type": "markdown",
   "metadata": {},
   "source": [
    "<h3>Already Generated Images</h3>"
   ]
  },
  {
   "cell_type": "code",
   "execution_count": 56,
   "metadata": {},
   "outputs": [
    {
     "data": {
      "text/html": [
       "<div>\n",
       "<style scoped>\n",
       "    .dataframe tbody tr th:only-of-type {\n",
       "        vertical-align: middle;\n",
       "    }\n",
       "\n",
       "    .dataframe tbody tr th {\n",
       "        vertical-align: top;\n",
       "    }\n",
       "\n",
       "    .dataframe thead th {\n",
       "        text-align: right;\n",
       "    }\n",
       "</style>\n",
       "<table border=\"1\" class=\"dataframe\">\n",
       "  <thead>\n",
       "    <tr style=\"text-align: right;\">\n",
       "      <th></th>\n",
       "      <th>fileName</th>\n",
       "      <th>startAxisX</th>\n",
       "      <th>startAxisY</th>\n",
       "      <th>endAxisX</th>\n",
       "      <th>endAxisY</th>\n",
       "      <th>centerX</th>\n",
       "      <th>centerY</th>\n",
       "      <th>width</th>\n",
       "      <th>height</th>\n",
       "      <th>label</th>\n",
       "      <th>...</th>\n",
       "      <th>finalRotation</th>\n",
       "      <th>resizingPercent</th>\n",
       "      <th>Darkness</th>\n",
       "      <th>xPeriod</th>\n",
       "      <th>yPeriod</th>\n",
       "      <th>turbSize</th>\n",
       "      <th>offsetX</th>\n",
       "      <th>offsetY</th>\n",
       "      <th>backgroundType</th>\n",
       "      <th>turbPower</th>\n",
       "    </tr>\n",
       "    <tr>\n",
       "      <th>index</th>\n",
       "      <th></th>\n",
       "      <th></th>\n",
       "      <th></th>\n",
       "      <th></th>\n",
       "      <th></th>\n",
       "      <th></th>\n",
       "      <th></th>\n",
       "      <th></th>\n",
       "      <th></th>\n",
       "      <th></th>\n",
       "      <th></th>\n",
       "      <th></th>\n",
       "      <th></th>\n",
       "      <th></th>\n",
       "      <th></th>\n",
       "      <th></th>\n",
       "      <th></th>\n",
       "      <th></th>\n",
       "      <th></th>\n",
       "      <th></th>\n",
       "      <th></th>\n",
       "    </tr>\n",
       "  </thead>\n",
       "  <tbody>\n",
       "    <tr>\n",
       "      <th>0</th>\n",
       "      <td>0.png</td>\n",
       "      <td>44.23998</td>\n",
       "      <td>112.155796</td>\n",
       "      <td>21.114827</td>\n",
       "      <td>137.838882</td>\n",
       "      <td>32.677404</td>\n",
       "      <td>124.997339</td>\n",
       "      <td>64.8</td>\n",
       "      <td>34.56</td>\n",
       "      <td>7</td>\n",
       "      <td>...</td>\n",
       "      <td>318</td>\n",
       "      <td>216</td>\n",
       "      <td>0.646233</td>\n",
       "      <td>7</td>\n",
       "      <td>2</td>\n",
       "      <td>8</td>\n",
       "      <td>-51</td>\n",
       "      <td>-128</td>\n",
       "      <td>1</td>\n",
       "      <td>0.389777</td>\n",
       "    </tr>\n",
       "  </tbody>\n",
       "</table>\n",
       "<p>1 rows × 23 columns</p>\n",
       "</div>"
      ],
      "text/plain": [
       "      fileName  startAxisX  startAxisY   endAxisX    endAxisY    centerX  \\\n",
       "index                                                                      \n",
       "0        0.png    44.23998  112.155796  21.114827  137.838882  32.677404   \n",
       "\n",
       "          centerY  width  height  label  ...  finalRotation  resizingPercent  \\\n",
       "index                                    ...                                   \n",
       "0      124.997339   64.8   34.56      7  ...            318              216   \n",
       "\n",
       "       Darkness  xPeriod  yPeriod  turbSize  offsetX  offsetY  backgroundType  \\\n",
       "index                                                                           \n",
       "0      0.646233        7        2         8      -51     -128               1   \n",
       "\n",
       "       turbPower  \n",
       "index             \n",
       "0       0.389777  \n",
       "\n",
       "[1 rows x 23 columns]"
      ]
     },
     "execution_count": 56,
     "metadata": {},
     "output_type": "execute_result"
    }
   ],
   "source": [
    "prevData = pd.read_csv(os.path.join(FOLDER_PATH,'labels.csv'),index_col='index')\n",
    "prevData"
   ]
  },
  {
   "attachments": {},
   "cell_type": "markdown",
   "metadata": {},
   "source": [
    "<h2>Creating Images</h2>"
   ]
  },
  {
   "cell_type": "code",
   "execution_count": 57,
   "metadata": {},
   "outputs": [
    {
     "name": "stderr",
     "output_type": "stream",
     "text": [
      "  0%|          | 0/9999 [00:03<?, ?it/s]\n"
     ]
    }
   ],
   "source": [
    "# Checking starting point for loop\n",
    "start = len(prevData)\n",
    "\n",
    "# Loop\n",
    "for i in tqdm(range(start,len(MNIST))):\n",
    "    # File name\n",
    "    fileName = f'{i}.png'\n",
    "    # Generating local symmetry\n",
    "    img, dictSym, dictBack = getLocalSymmetry(SHAPE, MNIST, idx=i)\n",
    "    # Removing unnecesary data\n",
    "    del dictSym['startAxis']\n",
    "    del dictSym['endAxis']\n",
    "    del dictSym['center']\n",
    "    # Merging dictionaries\n",
    "    finalDict = dictSym | dictBack\n",
    "    # Adding data\n",
    "    finalDict['fileName'] = fileName\n",
    "    finalDict['overFlow'] = int(finalDict['overFlow'] == True)\n",
    "    # Appending to df and saving\n",
    "    newRowDf = pd.DataFrame(finalDict, index=[0])\n",
    "    prevData = pd.concat([prevData, newRowDf], ignore_index=True)\n",
    "    prevData.index.name = 'index'\n",
    "    prevData.to_csv(os.path.join(FOLDER_PATH, 'labels.csv'))\n",
    "    # Saving image\n",
    "    cv2.imwrite(os.path.join('symmetry_database','images',fileName), img)  "
   ]
  }
 ],
 "metadata": {
  "kernelspec": {
   "display_name": "Python 3",
   "language": "python",
   "name": "python3"
  },
  "language_info": {
   "codemirror_mode": {
    "name": "ipython",
    "version": 3
   },
   "file_extension": ".py",
   "mimetype": "text/x-python",
   "name": "python",
   "nbconvert_exporter": "python",
   "pygments_lexer": "ipython3",
   "version": "3.11.0"
  },
  "orig_nbformat": 4
 },
 "nbformat": 4,
 "nbformat_minor": 2
}
