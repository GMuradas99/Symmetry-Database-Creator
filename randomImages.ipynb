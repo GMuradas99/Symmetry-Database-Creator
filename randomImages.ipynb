{
 "cells": [
  {
   "cell_type": "code",
   "execution_count": 2,
   "metadata": {},
   "outputs": [],
   "source": [
    "import numpy as np\n",
    "import matplotlib.pyplot as plt\n",
    "from functions import createSymmetry\n",
    "import pandas as pd"
   ]
  },
  {
   "cell_type": "code",
   "execution_count": 1,
   "metadata": {},
   "outputs": [
    {
     "ename": "NameError",
     "evalue": "name 'np' is not defined",
     "output_type": "error",
     "traceback": [
      "\u001b[1;31m---------------------------------------------------------------------------\u001b[0m",
      "\u001b[1;31mNameError\u001b[0m                                 Traceback (most recent call last)",
      "Cell \u001b[1;32mIn[1], line 1\u001b[0m\n\u001b[1;32m----> 1\u001b[0m finalIimage \u001b[39m=\u001b[39m np\u001b[39m.\u001b[39mzeros((\u001b[39m224\u001b[39m,\u001b[39m224\u001b[39m,\u001b[39m3\u001b[39m))\u001b[39m.\u001b[39mastype(np\u001b[39m.\u001b[39muint8)\n\u001b[0;32m      2\u001b[0m mnist \u001b[39m=\u001b[39m pd\u001b[39m.\u001b[39mread_csv(\u001b[39m'\u001b[39m\u001b[39mMNIST/mnist_test.csv\u001b[39m\u001b[39m'\u001b[39m)\n\u001b[0;32m      4\u001b[0m symm,_,_ \u001b[39m=\u001b[39m createSymmetry(\u001b[39m2523\u001b[39m,mnist)\n",
      "\u001b[1;31mNameError\u001b[0m: name 'np' is not defined"
     ]
    }
   ],
   "source": [
    "finalIimage = np.zeros((224,224,3)).astype(np.uint8)\n",
    "mnist = pd.read_csv('MNIST/mnist_test.csv')\n",
    "\n",
    "symm,_,_ = createSymmetry(2523,mnist)\n",
    "\n",
    "padX = 0\n",
    "padY = 0\n",
    "\n",
    "finalIimage[padX:padX+symm.shape[0], padY:padY+symm.shape[1]] = symm\n",
    "\n",
    "plt.imshow(finalIimage)"
   ]
  }
 ],
 "metadata": {
  "kernelspec": {
   "display_name": "Python 3",
   "language": "python",
   "name": "python3"
  },
  "language_info": {
   "codemirror_mode": {
    "name": "ipython",
    "version": 3
   },
   "file_extension": ".py",
   "mimetype": "text/x-python",
   "name": "python",
   "nbconvert_exporter": "python",
   "pygments_lexer": "ipython3",
   "version": "3.11.0"
  },
  "orig_nbformat": 4,
  "vscode": {
   "interpreter": {
    "hash": "c261aea317cc0286b3b3261fbba9abdec21eaa57589985bb7a274bf54d6cc0a7"
   }
  }
 },
 "nbformat": 4,
 "nbformat_minor": 2
}
