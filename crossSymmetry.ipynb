{
 "cells": [
  {
   "attachments": {},
   "cell_type": "markdown",
   "metadata": {},
   "source": [
    "<h1>Cross Symmetry</h1>\n",
    "\n",
    "Symmetry presents in nature multiple times in the same object. To prepare the model for said scenarios, it is necessary to also be able to generate bodies symmetric in multiple axis."
   ]
  },
  {
   "cell_type": "code",
   "execution_count": 1,
   "metadata": {},
   "outputs": [],
   "source": [
    "import matplotlib.pyplot as plt\n",
    "import pandas as pd\n",
    "import numpy as np\n",
    "import random\n",
    "import cv2\n",
    "\n",
    "from tqdm import tqdm\n",
    "\n",
    "from functions import *"
   ]
  },
  {
   "attachments": {},
   "cell_type": "markdown",
   "metadata": {},
   "source": [
    "<h3>Adapting previous functions</h3>\n",
    "\n",
    "We first earlier functions to work with multiple symmetry axes passed as a list of segments."
   ]
  },
  {
   "cell_type": "code",
   "execution_count": 4,
   "metadata": {},
   "outputs": [],
   "source": [
    "# Returns the starting and ending points for the symmetry axis in cross symmetries as well as the coordinates for the bounding box\n",
    "def getCrossSAandBB(img):\n",
    "    minX = len(img[0])*10\n",
    "    minY = -1\n",
    "    maxX = -1\n",
    "    maxY = -1\n",
    "    for i in range(len(img)):\n",
    "        for j in range(len(img[0])):\n",
    "            if minY == -1 and (img[i][j][0] != 0 or img[i][j][1] != 0 or img[i][j][2] != 0):\n",
    "                minY = i\n",
    "            if img[i][j][0] != 0 or img[i][j][1] != 0 or img[i][j][2] != 0:\n",
    "                maxY = i-1\n",
    "                if j-1 > maxX:\n",
    "                    maxX = j\n",
    "                if j < minX:\n",
    "                    minX = j\n",
    "    maxX += 1\n",
    "    maxY += 1\n",
    "\n",
    "    # Axis of symmetry\n",
    "    startAxis1 = (minX + (maxX-minX)//2, minY)            \n",
    "    endAxis1 = (minX + (maxX-minX)//2, maxY)\n",
    "\n",
    "    startAxis2 = (minX, minY + (maxY-minY)//2)            \n",
    "    endAxis2 = (maxX, minY + (maxY-minY)//2)\n",
    "    \n",
    "    # Center, width and height of bounding box\n",
    "    center = ((maxX-minX)/2+minX, (maxY-minY)/2+minY)\n",
    "    height = (maxY-minY)\n",
    "    width = (maxX-minX)\n",
    "    \n",
    "    return [[startAxis1, endAxis1],[startAxis2, endAxis2]],center,width,height\n",
    "\n",
    "\n",
    "# Draws multiple symmetry axis and bounding box\n",
    "def drawMultipleSAandBB(img, axes, center, width, height, rotation):\n",
    "    for [startAxis, endAxis] in axes:\n",
    "        # Symmetry axis\n",
    "        cv2.line(img, (int(startAxis[0]) , int(startAxis[1])), (int(endAxis[0]) , int(endAxis[1])), [255,0,0], 1)\n",
    "\n",
    "        # Points for bounding box\n",
    "        pts = [(center[0]-width/2 , center[1]-height/2), (center[0]+width/2 , center[1]-height/2), \n",
    "            (center[0]+width/2 , center[1]+height/2), (center[0]-width/2 , center[1]+height/2)]\n",
    "        \n",
    "        # Rotating\n",
    "        rotationMatrix = cv2.getRotationMatrix2D(center, rotation, 1)\n",
    "        pts = transformKeypoints(pts, rotationMatrix)\n",
    "\n",
    "        # Drawing bounding box\n",
    "        displayBoundingBox(img, pts)\n",
    "\n",
    "# Remove the excess padding from image\n",
    "def removePaddingMultipleAxes(img, symAxes, cent):\n",
    "    _,_, center, width, height = getSAandBB(img)\n",
    "    minX = int(center[0] - width/2)\n",
    "    minY = int(center[1] - height/2)\n",
    "    maxX = int(center[0] + width/2)\n",
    "    maxY = int(center[1] + height/2)\n",
    "    cropped = img[minY:maxY, minX:maxX]\n",
    "    newSymAxes = []\n",
    "    for [startAxis, endAxis] in symAxes:\n",
    "        newStartX = startAxis[0] - minX\n",
    "        newStartY = startAxis[1] - minY\n",
    "        newEndX = endAxis[0] - minX\n",
    "        newEndY = endAxis[1] - minY\n",
    "        newSymAxes.append([[newStartX, newStartY],[newEndX, newEndY]])\n",
    "    newCentX = cent[0] - minX \n",
    "    newCentY = cent[1] - minY\n",
    "\n",
    "    return cropped, newSymAxes, (newCentX, newCentY)\n",
    "\n",
    "#Resizes the image and keypoints according to the selected percent\n",
    "def resizeSymmetryMultipleAxes(percent, img, symAxes, center, inWidth, inHeight):\n",
    "    width = int(img.shape[1] * percent / 100)\n",
    "    height = int(img.shape[0] * percent / 100)\n",
    "\n",
    "    newSymAxes = []\n",
    "    for [startAxis, endAxis] in symAxes:\n",
    "        newStartX = startAxis[0] * percent / 100\n",
    "        newStartY = startAxis[1] * percent / 100\n",
    "        newEndX = endAxis[0] * percent / 100\n",
    "        newEndY = endAxis[1] * percent / 100\n",
    "        newSymAxes.append([[newStartX, newStartY],[newEndX, newEndY]])\n",
    "    newCenterX = center[0] * percent / 100\n",
    "    newCenterY = center[1] * percent / 100\n",
    "    newWidth = inWidth * percent / 100\n",
    "    newHeight = inHeight * percent / 100\n",
    "\n",
    "    return cv2.resize(img, (width, height)), newSymAxes, (newCenterX, newCenterY), newWidth, newHeight"
   ]
  },
  {
   "attachments": {},
   "cell_type": "markdown",
   "metadata": {},
   "source": [
    "<h3>Putting everything together</h3>\n",
    "\n",
    "Finally we create a function that performs all operations and returns an image and its label. The symmetry is created by generating a single axis symmetry and then mirroring it horizontally before the last rotation."
   ]
  },
  {
   "cell_type": "code",
   "execution_count": 18,
   "metadata": {},
   "outputs": [
    {
     "data": {
      "text/plain": [
       "<matplotlib.image.AxesImage at 0x1fd8db60990>"
      ]
     },
     "execution_count": 18,
     "metadata": {},
     "output_type": "execute_result"
    },
    {
     "data": {
      "image/png": "[encoded data removed]",
      "text/plain": [
       "<Figure size 640x480 with 1 Axes>"
      ]
     },
     "metadata": {},
     "output_type": "display_data"
    }
   ],
   "source": [
    "minst = pd.read_csv('MNIST/mnist_test.csv')\n",
    "\n",
    "def createCrossSymmetry(id,minst,initialRotation = None, overFlow = None, padding1 = None, padding2 = None, finalRotation = None, \n",
    "                        resizingPercent = None):\n",
    "    result,label = getImageArray(id,minst)\n",
    "    result = applyColorGradient(result)\n",
    "\n",
    "    # Initial rotation\n",
    "    if initialRotation is None:\n",
    "        initialRotation = random.randrange(360)\n",
    "    result,_ = rotateDigit(result, initialRotation)\n",
    "\n",
    "    # Vertically mirroring the image\n",
    "    mirrored = cv2.flip(result, 1)\n",
    "\n",
    "    # Combining initial with mirrored \n",
    "    if overFlow is None:\n",
    "        overFlow = bool(random.getrandbits(1))\n",
    "    if padding1 is None:\n",
    "        padding1 = random.randrange(-result.shape[0], result.shape[0])\n",
    "    result = addWithPadding(result,mirrored, padding1, overFlow=overFlow)\n",
    "\n",
    "    # Horizontally mirroring the image\n",
    "    mirrored = cv2.flip(result, 0)\n",
    "\n",
    "    # Rotating both images 90º so they can be added with function\n",
    "    mirrored = cv2.rotate(mirrored, cv2.ROTATE_90_CLOCKWISE)\n",
    "    result = cv2.rotate(result, cv2.ROTATE_90_CLOCKWISE)\n",
    "\n",
    "    # Combining initial with mirrored\n",
    "    if padding2 is None:\n",
    "        padding2 = random.randrange(-result.shape[0], result.shape[0])\n",
    "    result = addWithPadding(result,mirrored, padding1, overFlow=overFlow)\n",
    "    \n",
    "    # Adding padding for rotation\n",
    "    result = addRotationPadding(result)\n",
    "\n",
    "    # Obtaining symmetry axes\n",
    "    symAxes, center, width, height = getCrossSAandBB(result)\n",
    "\n",
    "    # Final rotation\n",
    "    if finalRotation is None:\n",
    "        finalRotation = random.randrange(360)\n",
    "    result,rotationMatrix = rotateDigit(result,finalRotation)\n",
    "\n",
    "    # Rotating symmetry axis\n",
    "    rotated = transformKeypoints([symAxes[0][0], symAxes[0][1], symAxes[1][0], symAxes[1][1], center], rotationMatrix)\n",
    "    symAxes[0][0] = rotated[0]\n",
    "    symAxes[0][1] = rotated[1]\n",
    "    symAxes[1][0] = rotated[2]\n",
    "    symAxes[1][1] = rotated[3]\n",
    "    center = rotated[4]\n",
    "\n",
    "    # Remove excess pading\n",
    "    result, symAxes, center = removePaddingMultipleAxes(result, symAxes, center)\n",
    "\n",
    "    # Resizing\n",
    "    if resizingPercent is None:\n",
    "        resizingPercent = random.randrange(80,300)\n",
    "    result, symAxes, center, width, height = resizeSymmetryMultipleAxes(resizingPercent, result, symAxes, center, width, height)\n",
    "\n",
    "    return result, {'symAxes':symAxes, 'center':center, 'width':width, 'height':height, 'label':label, 'initialRotation':initialRotation, 'overFlow':overFlow,\n",
    "                    'padding1':padding1, 'padding2': padding2, 'finalRotation':finalRotation, 'resizingPercent':resizingPercent}\n",
    "\n",
    "   \n",
    "\n",
    "\n",
    "img, dict = createCrossSymmetry(34, minst)\n",
    "\n",
    "display = img.copy()\n",
    "drawMultipleSAandBB(display, dict['symAxes'], dict['center'], dict['width'], dict['height'], dict['finalRotation'])\n",
    "plt.imshow(display)"
   ]
  }
 ],
 "metadata": {
  "kernelspec": {
   "display_name": "Python 3",
   "language": "python",
   "name": "python3"
  },
  "language_info": {
   "codemirror_mode": {
    "name": "ipython",
    "version": 3
   },
   "file_extension": ".py",
   "mimetype": "text/x-python",
   "name": "python",
   "nbconvert_exporter": "python",
   "pygments_lexer": "ipython3",
   "version": "3.11.0"
  },
  "orig_nbformat": 4,
  "vscode": {
   "interpreter": {
    "hash": "c261aea317cc0286b3b3261fbba9abdec21eaa57589985bb7a274bf54d6cc0a7"
   }
  }
 },
 "nbformat": 4,
 "nbformat_minor": 2
}
